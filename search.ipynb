{
 "cells": [
  {
   "cell_type": "code",
   "execution_count": 13,
   "metadata": {},
   "outputs": [],
   "source": [
    "import gensim\n",
    "from gensim.models import Word2Vec\n",
    "import numpy as np\n",
    "import chromadb"
   ]
  },
  {
   "cell_type": "code",
   "execution_count": 14,
   "metadata": {},
   "outputs": [],
   "source": [
    "import warnings\n",
    "warnings.filterwarnings(\"ignore\")"
   ]
  },
  {
   "cell_type": "code",
   "execution_count": 15,
   "metadata": {},
   "outputs": [],
   "source": [
    "vector_size = 512\n",
    "model_name = f'./models/word-2-vec-{vector_size}.model'\n",
    "\n",
    "model = Word2Vec.load(model_name)"
   ]
  },
  {
   "cell_type": "code",
   "execution_count": 16,
   "metadata": {},
   "outputs": [],
   "source": [
    "client = chromadb.PersistentClient('./client')\n",
    "collection = client.get_or_create_collection(f'inventory_emb-{vector_size}')"
   ]
  },
  {
   "cell_type": "code",
   "execution_count": 17,
   "metadata": {},
   "outputs": [],
   "source": [
    "query = 'apple smartphone'\n",
    "queryText = gensim.utils.simple_preprocess(query)\n",
    "query_vector = np.mean([model.wv[token] for token in queryText if token in model.wv], axis=0)\n",
    "query_vector = np.array(query_vector).tolist()\n",
    "\n",
    "# query_vector"
   ]
  },
  {
   "cell_type": "code",
   "execution_count": 18,
   "metadata": {},
   "outputs": [
    {
     "data": {
      "text/plain": [
       "[['BACtrack C8 Breathalyzer | Professional-Grade Accuracy | Optional Wireless Smartphone Connectivity | Compatible w/ Apple iPhone, Google & Samsung Android Devices | Apple HealthKit Integration',\n",
       "  'BACtrack C6 Keychain Breathalyzer | Professional-Grade Accuracy | Optional Wireless Smartphone Connectivity | Compatible w/ Apple iPhone, Google & Samsung Android Devices | Apple HealthKit Integration']]"
      ]
     },
     "execution_count": 18,
     "metadata": {},
     "output_type": "execute_result"
    }
   ],
   "source": [
    "results = collection.query(\n",
    "    query_embeddings=[query_vector],\n",
    "    n_results=2\n",
    ")\n",
    "\n",
    "results['documents']\n",
    "# results['distances']"
   ]
  }
 ],
 "metadata": {
  "kernelspec": {
   "display_name": "data-science",
   "language": "python",
   "name": "python3"
  },
  "language_info": {
   "codemirror_mode": {
    "name": "ipython",
    "version": 3
   },
   "file_extension": ".py",
   "mimetype": "text/x-python",
   "name": "python",
   "nbconvert_exporter": "python",
   "pygments_lexer": "ipython3",
   "version": "3.10.12"
  }
 },
 "nbformat": 4,
 "nbformat_minor": 2
}
