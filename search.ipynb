{
 "cells": [
  {
   "cell_type": "code",
   "execution_count": 13,
   "metadata": {},
   "outputs": [],
   "source": [
    "import gensim\n",
    "from gensim.models import Word2Vec\n",
    "import numpy as np\n",
    "import chromadb"
   ]
  },
  {
   "cell_type": "code",
   "execution_count": 14,
   "metadata": {},
   "outputs": [],
   "source": [
    "import warnings\n",
    "warnings.filterwarnings(\"ignore\")"
   ]
  },
  {
   "cell_type": "code",
   "execution_count": 15,
   "metadata": {},
   "outputs": [],
   "source": [
    "vector_size = 128\n",
    "model_name = f'./models/w2v-{vector_size}.model'\n",
    "\n",
    "model = Word2Vec.load(model_name)"
   ]
  },
  {
   "cell_type": "code",
   "execution_count": 39,
   "metadata": {},
   "outputs": [],
   "source": [
    "query = 'skyrim game x-box'\n",
    "queryText = gensim.utils.simple_preprocess(query)\n",
    "query_vector = np.mean([model.wv[token] for token in queryText if token in model.wv], axis=0)\n",
    "query_vector = np.array(query_vector).tolist()\n",
    "\n",
    "# query_vector"
   ]
  },
  {
   "cell_type": "code",
   "execution_count": 40,
   "metadata": {},
   "outputs": [],
   "source": [
    "client = chromadb.PersistentClient('./client')\n",
    "collection = client.get_collection('categories')"
   ]
  },
  {
   "cell_type": "code",
   "execution_count": 41,
   "metadata": {},
   "outputs": [
    {
     "data": {
      "text/plain": [
       "'VideoGameConsolesAccessories'"
      ]
     },
     "execution_count": 41,
     "metadata": {},
     "output_type": "execute_result"
    }
   ],
   "source": [
    "results = collection.query(\n",
    "    query_embeddings=[query_vector],\n",
    "    n_results=1\n",
    ")\n",
    "\n",
    "if (results['metadatas'][0][0]['collectionName']):\n",
    "    category = results['metadatas'][0][0]['collectionName']\n",
    "else:\n",
    "    print('No results found')\n",
    "\n",
    "# results['distances']\n",
    "results['metadatas'][0][0]['collectionName']"
   ]
  },
  {
   "cell_type": "code",
   "execution_count": 42,
   "metadata": {},
   "outputs": [
    {
     "data": {
      "text/plain": [
       "{'ids': [['item900784', 'item900910']],\n",
       " 'distances': [[57.697540283203125, 59.83539581298828]],\n",
       " 'metadatas': [[{'boughtInLastMonth': 50,\n",
       "    'imgUrl': 'https://m.media-amazon.com/images/I/71pcSyMTM2L._AC_UL320_.jpg',\n",
       "    'price': 7.99,\n",
       "    'productURL': 'https://www.amazon.com/dp/B006RE90VI',\n",
       "    'stars': 4.1},\n",
       "   {'boughtInLastMonth': 0,\n",
       "    'imgUrl': 'https://m.media-amazon.com/images/I/91QLLJY2gvL._AC_UL320_.jpg',\n",
       "    'price': 14.99,\n",
       "    'productURL': 'https://www.amazon.com/dp/B0C6DXFQS5',\n",
       "    'stars': 4.3}]],\n",
       " 'embeddings': None,\n",
       " 'documents': [['16 in 1 Game card case box holder for Nintendo DS card case',\n",
       "   'for Nintendo Switch Game Case with 24 Game Holder Slots and 24 SD Micro Card Slots for Nintendo Switch/Lite/OLED,Cute Cartoon Games Cartridge Cases for Boys Kids Girls Kawaii Storage Box, Maro1']]}"
      ]
     },
     "execution_count": 42,
     "metadata": {},
     "output_type": "execute_result"
    }
   ],
   "source": [
    "collection = client.get_collection(f'{category}-{vector_size}')\n",
    "\n",
    "results = collection.query(\n",
    "  query_embeddings=[query_vector],\n",
    "  n_results=2\n",
    ")\n",
    "\n",
    "results"
   ]
  }
 ],
 "metadata": {
  "kernelspec": {
   "display_name": "data-science",
   "language": "python",
   "name": "python3"
  },
  "language_info": {
   "codemirror_mode": {
    "name": "ipython",
    "version": 3
   },
   "file_extension": ".py",
   "mimetype": "text/x-python",
   "name": "python",
   "nbconvert_exporter": "python",
   "pygments_lexer": "ipython3",
   "version": "3.10.12"
  }
 },
 "nbformat": 4,
 "nbformat_minor": 2
}
