{
 "cells": [
  {
   "cell_type": "code",
   "execution_count": null,
   "metadata": {},
   "outputs": [],
   "source": [
    "import gensim\n",
    "from gensim.models import Word2Vec\n",
    "import pandas as pd\n",
    "import numpy as np\n",
    "import chromadb"
   ]
  },
  {
   "cell_type": "code",
   "execution_count": null,
   "metadata": {},
   "outputs": [],
   "source": [
    "import warnings\n",
    "warnings.filterwarnings(\"ignore\")"
   ]
  },
  {
   "cell_type": "code",
   "execution_count": null,
   "metadata": {},
   "outputs": [],
   "source": [
    "vector_size = 128\n",
    "model_path = f'./models/w2v-{vector_size}.model'\n",
    "\n",
    "model = Word2Vec.load(model_path)"
   ]
  },
  {
   "cell_type": "code",
   "execution_count": null,
   "metadata": {},
   "outputs": [],
   "source": [
    "def vectorizeText(text):\n",
    "  tokens = gensim.utils.simple_preprocess(text)\n",
    "  text_vector = np.mean([model.wv[token] for token in tokens if token in model.wv], axis=0)\n",
    "  text_vector = np.array(text_vector)\n",
    "\n",
    "  return list(text_vector)"
   ]
  },
  {
   "cell_type": "code",
   "execution_count": null,
   "metadata": {},
   "outputs": [],
   "source": [
    "client = chromadb.PersistentClient('./client')\n",
    "\n",
    "df = pd.read_csv(\"./data/inventory.csv\")\n",
    "categories = df['categoryName'].unique()\n",
    "\n",
    "# categories"
   ]
  },
  {
   "cell_type": "code",
   "execution_count": null,
   "metadata": {},
   "outputs": [],
   "source": [
    "collection = client.get_or_create_collection('categories', embedding_function=vectorizeText)\n",
    "\n",
    "collection.add(\n",
    "  documents=list(categories),\n",
    "  ids=[('cat' + str(i)) for i in range(len(categories))]\n",
    ")"
   ]
  },
  {
   "cell_type": "code",
   "execution_count": null,
   "metadata": {},
   "outputs": [],
   "source": [
    "def addDocuments(collection, documents, metadatas, ids):\n",
    "  chunk_size = 40000\n",
    "\n",
    "  for i in range(0, len(ids), chunk_size):\n",
    "    collection.add(\n",
    "      documents=documents[i:i+chunk_size],\n",
    "      metadatas=metadatas[i:i+chunk_size],\n",
    "      ids=ids[i:i+chunk_size]\n",
    "    )"
   ]
  },
  {
   "cell_type": "code",
   "execution_count": null,
   "metadata": {},
   "outputs": [],
   "source": [
    "for category in categories:\n",
    "  collection = client.get_or_create_collection(\n",
    "    f'inventory_emb-{vector_size}', \n",
    "    embedding_function=vectorizeText\n",
    "  )\n",
    "\n",
    "  mask = df['categoryName'] == category\n",
    "  filtered = df[mask]\n",
    "\n",
    "  filtered.drop(columns=['categoryName'], inplace=True)\n",
    "  documents = list(filtered.pop('title'))\n",
    "  metadatas = [entry.to_dict() for index, entry in filtered.iterrows()]\n",
    "  ids = [('doc' + str(i)) for i in filtered.index]\n",
    "\n",
    "  addDocuments(collection, documents, metadatas, ids)\n",
    "  "
   ]
  }
 ],
 "metadata": {
  "kernelspec": {
   "display_name": "data-science",
   "language": "python",
   "name": "python3"
  },
  "language_info": {
   "codemirror_mode": {
    "name": "ipython",
    "version": 3
   },
   "file_extension": ".py",
   "mimetype": "text/x-python",
   "name": "python",
   "nbconvert_exporter": "python",
   "pygments_lexer": "ipython3",
   "version": "3.10.12"
  }
 },
 "nbformat": 4,
 "nbformat_minor": 2
}
