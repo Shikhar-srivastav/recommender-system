{
 "cells": [
  {
   "cell_type": "code",
   "execution_count": null,
   "metadata": {},
   "outputs": [],
   "source": [
    "import gensim\n",
    "from gensim.models import Word2Vec\n",
    "import pandas as pd\n",
    "import numpy as np\n",
    "from chromadb import PersistentClient\n",
    "import re"
   ]
  },
  {
   "cell_type": "code",
   "execution_count": null,
   "metadata": {},
   "outputs": [],
   "source": [
    "import warnings\n",
    "warnings.filterwarnings(\"ignore\")"
   ]
  },
  {
   "cell_type": "code",
   "execution_count": null,
   "metadata": {},
   "outputs": [],
   "source": [
    "vector_size = 128\n",
    "model_path = f'./models/w2v-{vector_size}.model'\n",
    "\n",
    "model = Word2Vec.load(model_path)"
   ]
  },
  {
   "cell_type": "code",
   "execution_count": null,
   "metadata": {},
   "outputs": [],
   "source": [
    "def processString(text):\n",
    "  text = re.sub(r'[^A-Za-z0-9]', '', text)\n",
    "  return text[0:48]"
   ]
  },
  {
   "cell_type": "code",
   "execution_count": null,
   "metadata": {},
   "outputs": [],
   "source": [
    "def generateVectors(docs):\n",
    "  embeddings = []\n",
    "\n",
    "  for doc in docs:\n",
    "    tokens = gensim.utils.simple_preprocess(doc)\n",
    "    text_vector = np.mean([model.wv[token] for token in tokens if token in model.wv], axis=0)\n",
    "    text_vector = list(np.array(text_vector, dtype=np.float64))\n",
    "    embeddings.append(text_vector)\n",
    "  \n",
    "  return embeddings"
   ]
  },
  {
   "cell_type": "code",
   "execution_count": null,
   "metadata": {},
   "outputs": [],
   "source": [
    "client = PersistentClient('./client')\n",
    "\n",
    "df = pd.read_csv(\"./data/inventory.csv\")\n",
    "categories = df['categoryName'].unique()\n",
    "\n",
    "# categories"
   ]
  },
  {
   "cell_type": "code",
   "execution_count": null,
   "metadata": {},
   "outputs": [],
   "source": [
    "collection = client.get_or_create_collection('categories')\n",
    "\n",
    "documents = list(categories)\n",
    "embeddings = generateVectors(documents)\n",
    "metadatas = [{ 'collectionName': processString(doc) } for doc in documents]\n",
    "ids = [('cat' + str(i)) for i in range(len(categories))]\n",
    "\n",
    "collection.add(\n",
    "  documents=documents,\n",
    "  embeddings=embeddings,\n",
    "  metadatas=metadatas,\n",
    "  ids=ids\n",
    ")"
   ]
  },
  {
   "cell_type": "code",
   "execution_count": 30,
   "metadata": {},
   "outputs": [],
   "source": [
    "def createEmbeddings(df):\n",
    "  documents = []\n",
    "  embeddings = []\n",
    "  metadatas = []\n",
    "  ids = []\n",
    "\n",
    "  for index, entry in df.iterrows():\n",
    "    entry = entry.to_dict()\n",
    "    title = entry.pop('title')\n",
    "    tokens = gensim.utils.simple_preprocess(title)\n",
    "    \n",
    "    text_vector = np.mean([model.wv[token] for token in tokens if token in model.wv], axis=0)\n",
    "    \n",
    "    \n",
    "    if text_vector.size == vector_size:\n",
    "      text_vector = list(np.array(text_vector, dtype=np.float64))\n",
    "      embeddings.append(text_vector)\n",
    "\n",
    "      documents.append(title)\n",
    "      metadatas.append(entry)\n",
    "      ids.append('item' + str(index))\n",
    "\n",
    "  return documents, embeddings, metadatas, ids"
   ]
  },
  {
   "cell_type": "code",
   "execution_count": 17,
   "metadata": {},
   "outputs": [],
   "source": [
    "def addDocuments(collection, documents, embeddings, metadatas, ids):\n",
    "  collection.add(\n",
    "    documents=documents,\n",
    "    embeddings=embeddings,\n",
    "    metadatas=metadatas,\n",
    "    ids=ids\n",
    "  )"
   ]
  },
  {
   "cell_type": "code",
   "execution_count": 18,
   "metadata": {},
   "outputs": [],
   "source": [
    "def transformDocuments(collection, df):\n",
    "  chunk_size = 40000\n",
    "\n",
    "  for i in range(0, df.shape[0], chunk_size):\n",
    "    documents, embeddings, metadatas, ids = createEmbeddings(df[i:i+chunk_size])\n",
    "\n",
    "    addDocuments(collection, documents, embeddings, metadatas, ids)"
   ]
  },
  {
   "cell_type": "code",
   "execution_count": 31,
   "metadata": {},
   "outputs": [],
   "source": [
    "for category in categories:\n",
    "  mask = df['categoryName'] == category\n",
    "  filtered = df[mask]\n",
    "\n",
    "  filtered.drop(columns=['categoryName'], inplace=True)\n",
    "\n",
    "  category = processString(category)\n",
    "  collection = client.get_or_create_collection(f'{category}-{vector_size}')\n",
    "\n",
    "  transformDocuments(collection, filtered)"
   ]
  }
 ],
 "metadata": {
  "kernelspec": {
   "display_name": "data-science",
   "language": "python",
   "name": "python3"
  },
  "language_info": {
   "codemirror_mode": {
    "name": "ipython",
    "version": 3
   },
   "file_extension": ".py",
   "mimetype": "text/x-python",
   "name": "python",
   "nbconvert_exporter": "python",
   "pygments_lexer": "ipython3",
   "version": "3.10.12"
  }
 },
 "nbformat": 4,
 "nbformat_minor": 2
}
